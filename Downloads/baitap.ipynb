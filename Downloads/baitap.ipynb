{
 "cells": [
  {
   "cell_type": "code",
   "execution_count": 6,
   "id": "aee4c1c8-a58d-4047-85ed-f3fbb09117c7",
   "metadata": {},
   "outputs": [
    {
     "name": "stdin",
     "output_type": "stream",
     "text": [
      "số nguyên dương: 22\n"
     ]
    },
    {
     "name": "stdout",
     "output_type": "stream",
     "text": [
      "Even\n"
     ]
    }
   ],
   "source": [
    "#6\n",
    "x = int(input(\"số nguyên dương:\"))\n",
    "if x%2==0:\n",
    "    print(\"Even\")\n",
    "else:\n",
    "    print(\"Odd\")\n"
   ]
  },
  {
   "cell_type": "code",
   "execution_count": 1,
   "id": "101d1bc5-1eb3-411e-942c-41be52d7e7d7",
   "metadata": {},
   "outputs": [
    {
     "name": "stdin",
     "output_type": "stream",
     "text": [
      "số a: 6\n",
      "số b: -7\n"
     ]
    },
    {
     "name": "stdout",
     "output_type": "stream",
     "text": [
      "No\n"
     ]
    }
   ],
   "source": [
    "#7\n",
    "a = int(input(\"số a:\"))\n",
    "b = int(input(\"số b:\"))\n",
    "if a<0 and b<0:\n",
    "    print(\"Yes\")\n",
    "else:\n",
    "    print(\"No\")"
   ]
  },
  {
   "cell_type": "code",
   "execution_count": 35,
   "id": "174d795e-6524-4f94-8bd4-59573897fc7c",
   "metadata": {},
   "outputs": [
    {
     "name": "stdin",
     "output_type": "stream",
     "text": [
      " hello\n",
      " hi\n"
     ]
    },
    {
     "name": "stdout",
     "output_type": "stream",
     "text": [
      "True\n"
     ]
    }
   ],
   "source": [
    "#8\n",
    "a = input(\"chuỗi a:\")\n",
    "b = input(\"chuỗi b:\")\n",
    "if len(a)>len(b):\n",
    "    print(\"True\")\n",
    "else:\n",
    "    print(\"False\")"
   ]
  },
  {
   "cell_type": "code",
   "execution_count": 11,
   "id": "5d22e076-4922-43fd-b00a-90e071c45dea",
   "metadata": {},
   "outputs": [
    {
     "name": "stdin",
     "output_type": "stream",
     "text": [
      "số nguyên dương a: 3\n",
      "số nguyên dương b: 4\n",
      "số nguyên dương c: 5\n"
     ]
    },
    {
     "name": "stdout",
     "output_type": "stream",
     "text": [
      "Yes\n"
     ]
    }
   ],
   "source": [
    "#9\n",
    "a = int(input(\"số nguyên dương a:\"))\n",
    "b = int(input(\"số nguyên dương b:\"))\n",
    "c = int(input(\"số nguyên dương c:\"))\n",
    "if a<(b+c) and b<(a+c) and c<(a+b):\n",
    "    print(\"Yes\")\n",
    "else:\n",
    "    print(\"No\")"
   ]
  },
  {
   "cell_type": "code",
   "execution_count": 19,
   "id": "73e1f75f-134c-49b1-b692-a813a99bbff5",
   "metadata": {},
   "outputs": [
    {
     "name": "stdin",
     "output_type": "stream",
     "text": [
      "số a: 9 \n",
      "số b: 10\n",
      "số c: 11\n",
      "số d: 12\n"
     ]
    },
    {
     "name": "stdout",
     "output_type": "stream",
     "text": [
      "d\n"
     ]
    }
   ],
   "source": [
    "#10\n",
    "a = int(input(\"số a:\"))\n",
    "b = int(input(\"số b:\"))\n",
    "c = int(input(\"số c:\"))\n",
    "d = int(input(\"số d:\"))\n",
    "if a>b and a>c and a>d:\n",
    "    print(\"a\")\n",
    "elif b>a and b>c and b>d:\n",
    "    print(\"b\")\n",
    "elif c>a and c>b and c>d:\n",
    "    print(\"c\")\n",
    "elif d>a and d>b and d>c:\n",
    "    print(\"d\")\n",
    "else:\n",
    "    print(\"?\")\n"
   ]
  },
  {
   "cell_type": "code",
   "execution_count": 41,
   "id": "9b6c8b2a-727e-42e2-a3fb-136c8d13c563",
   "metadata": {},
   "outputs": [
    {
     "name": "stdin",
     "output_type": "stream",
     "text": [
      "số nguyên dương a: 3\n",
      "số nguyên dương b: 3\n",
      "số nguyên dương c: 3\n"
     ]
    },
    {
     "name": "stdout",
     "output_type": "stream",
     "text": [
      "Tam giác đều\n"
     ]
    }
   ],
   "source": [
    "#11\n",
    "a = int(input(\"số nguyên dương a:\"))\n",
    "b = int(input(\"số nguyên dương b:\"))\n",
    "c = int(input(\"số nguyên dương c:\"))\n",
    "if a<(b+c) and b<(a+c) and c<(a+b):\n",
    "  if a==b==c:\n",
    "    print(\"Tam giác đều\")\n",
    "  elif a==b or b==c or c==a:\n",
    "    print(\"Tam giác cân\")\n",
    "  else:\n",
    "    print(\"Tam giác thường\")\n",
    "else:\n",
    "    print(\"Không phải tam giác\")\n"
   ]
  },
  {
   "cell_type": "code",
   "execution_count": 33,
   "id": "108d893e-1e72-495d-b2cf-79e522757ff3",
   "metadata": {},
   "outputs": [
    {
     "name": "stdin",
     "output_type": "stream",
     "text": [
      "điểm trung bình 10\n"
     ]
    },
    {
     "name": "stdout",
     "output_type": "stream",
     "text": [
      "Giỏi\n"
     ]
    }
   ],
   "source": [
    "#15\n",
    "def score():\n",
    " x=float(input(\"điểm trung bình\"))\n",
    " if x>10 and x<0:\n",
    "    print(\"?\")\n",
    " elif x>=8.0:\n",
    "    print(\"Giỏi\")\n",
    " elif x>=6.5:\n",
    "    print(\"Khá\")\n",
    " elif x>=5.0:\n",
    "    print(\"Trung bình\")\n",
    " elif x<5:\n",
    "    print(\"Yếu\")\n",
    "\n",
    "score()"
   ]
  },
  {
   "cell_type": "code",
   "execution_count": null,
   "id": "21e77a97-42cf-4c50-bd6c-8781a17b28a4",
   "metadata": {},
   "outputs": [],
   "source": []
  }
 ],
 "metadata": {
  "kernelspec": {
   "display_name": "Python 3 (ipykernel)",
   "language": "python",
   "name": "python3"
  },
  "language_info": {
   "codemirror_mode": {
    "name": "ipython",
    "version": 3
   },
   "file_extension": ".py",
   "mimetype": "text/x-python",
   "name": "python",
   "nbconvert_exporter": "python",
   "pygments_lexer": "ipython3",
   "version": "3.13.5"
  }
 },
 "nbformat": 4,
 "nbformat_minor": 5
}
