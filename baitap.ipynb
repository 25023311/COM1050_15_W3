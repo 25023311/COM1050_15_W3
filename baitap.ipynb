{
 "cells": [
  {
   "cell_type": "code",
   "execution_count": 35,
   "id": "c550cf0a-9851-457f-a187-200d4dd9e169",
   "metadata": {},
   "outputs": [
    {
     "name": "stdin",
     "output_type": "stream",
     "text": [
      "Nhập a:  5\n",
      "Nhập b:  3\n"
     ]
    },
    {
     "name": "stdout",
     "output_type": "stream",
     "text": [
      "Trước khi hoán đổi: a = 5, b = 3\n",
      "Sau khi hoán đổi: a = 3, b = 5\n"
     ]
    }
   ],
   "source": [
    "#2\n",
    "a = int(input(\"Nhập a: \"))\n",
    "b = int(input(\"Nhập b: \"))\n",
    "print(f\"Trước khi hoán đổi: a = {a}, b = {b}\")\n",
    "a = a ^ b\n",
    "b = a ^ b\n",
    "a = a ^ b\n",
    "print(f\"Sau khi hoán đổi: a = {a}, b = {b}\")\n"
   ]
  },
  {
   "cell_type": "code",
   "execution_count": 32,
   "id": "ccc1748f-d8d8-4118-a86c-3c4e21a0757a",
   "metadata": {},
   "outputs": [
    {
     "name": "stdin",
     "output_type": "stream",
     "text": [
      "n= 3\n"
     ]
    },
    {
     "name": "stdout",
     "output_type": "stream",
     "text": [
      "No\n"
     ]
    }
   ],
   "source": [
    "#3\n",
    "n = int(input(\"n=\"))\n",
    "if n>0 and (n&(n-1))==0:\n",
    "    print(\"Yes\")\n",
    "else:\n",
    "    print(\"No\")\n"
   ]
  },
  {
   "cell_type": "code",
   "execution_count": 26,
   "id": "61659743-c63b-48d6-88c1-9106792c866e",
   "metadata": {},
   "outputs": [
    {
     "name": "stdin",
     "output_type": "stream",
     "text": [
      "Nhập số m:  7\n",
      "Nhập số n:  3\n"
     ]
    },
    {
     "name": "stdout",
     "output_type": "stream",
     "text": [
      "Kết quả làm tròn xuống là: 2\n"
     ]
    }
   ],
   "source": [
    "#4\n",
    "import math\n",
    "\n",
    "m = float(input(\"Nhập số m: \"))\n",
    "n = float(input(\"Nhập số n: \"))\n",
    "\n",
    "if n == 0:\n",
    "    print(\"Không thể chia cho 0!\")\n",
    "else:\n",
    "    kq = math.floor(m / n)\n",
    "    print(\"Kết quả làm tròn xuống là:\", kq)\n",
    "\n"
   ]
  },
  {
   "cell_type": "code",
   "execution_count": 28,
   "id": "6ae4dc95-d499-4b9d-816b-a7aeb229820f",
   "metadata": {},
   "outputs": [
    {
     "name": "stdin",
     "output_type": "stream",
     "text": [
      "m= 7\n",
      "n= 3\n"
     ]
    },
    {
     "name": "stdout",
     "output_type": "stream",
     "text": [
      "làm tròn lên: 3\n"
     ]
    }
   ],
   "source": [
    "#5\n",
    "import math\n",
    "m = float(input(\"m=\"))\n",
    "n = float(input(\"n=\"))\n",
    "if n==0:\n",
    "    print(\"Vô lí\")\n",
    "else:\n",
    "    x = math.ceil(m / n)\n",
    "    print(\"làm tròn lên:\", x)"
   ]
  },
  {
   "cell_type": "code",
   "execution_count": 1,
   "id": "7f832475-2b30-4019-acf0-ff7dd64b0544",
   "metadata": {},
   "outputs": [
    {
     "name": "stdin",
     "output_type": "stream",
     "text": [
      "số nguyên dương: 29\n"
     ]
    },
    {
     "name": "stdout",
     "output_type": "stream",
     "text": [
      "Odd\n"
     ]
    }
   ],
   "source": [
    "#6\n",
    "x = int(input(\"số nguyên dương:\"))\n",
    "if x%2==0:\n",
    "    print(\"Even\")\n",
    "else:\n",
    "    print(\"Odd\")\n",
    "    "
   ]
  },
  {
   "cell_type": "code",
   "execution_count": 2,
   "id": "8f899863-6df8-4f3f-9b84-557c0a23f7ee",
   "metadata": {},
   "outputs": [
    {
     "name": "stdin",
     "output_type": "stream",
     "text": [
      "số nguyên a: 3\n",
      "số nguyên b: 7\n"
     ]
    },
    {
     "name": "stdout",
     "output_type": "stream",
     "text": [
      "Yes\n"
     ]
    }
   ],
   "source": [
    "#7\n",
    "a = int(input(\"số nguyên a:\"))\n",
    "b = int(input(\"số nguyên b:\"))\n",
    "if a>0 and b>0:\n",
    "    print(\"Yes\")\n",
    "else:\n",
    "    print(\"No\")\n",
    "    "
   ]
  },
  {
   "cell_type": "code",
   "execution_count": 3,
   "id": "257b7034-958d-4671-b014-5be43d9f7dd7",
   "metadata": {},
   "outputs": [
    {
     "name": "stdin",
     "output_type": "stream",
     "text": [
      "chuỗi a: hello\n",
      "chuỗi b: hi\n"
     ]
    },
    {
     "name": "stdout",
     "output_type": "stream",
     "text": [
      "True\n"
     ]
    }
   ],
   "source": [
    "#8\n",
    "a = input(\"chuỗi a:\")\n",
    "b = input(\"chuỗi b:\")\n",
    "if len(a)>len(b):\n",
    "    print(\"True\")\n",
    "else:\n",
    "    print(\"False\")"
   ]
  },
  {
   "cell_type": "code",
   "execution_count": null,
   "id": "dfd29fe9-f24c-4278-91cb-775845142e3b",
   "metadata": {},
   "outputs": [],
   "source": [
    "#9\n",
    "a = int(input(\"số nguyên a:\"))\n",
    "b = int(input(\"số nguyên b:\"))\n",
    "c = int(input(\"số nguyên c:\"))\n",
    "if a<(b+c) and b<(a+c) and c<(a+c):\n",
    "    print(\"Yes\")\n",
    "else:\n",
    "    print(\"No\")"
   ]
  },
  {
   "cell_type": "code",
   "execution_count": 4,
   "id": "6e6db9db-ccdf-4050-861e-fb891a58e2ab",
   "metadata": {},
   "outputs": [
    {
     "name": "stdin",
     "output_type": "stream",
     "text": [
      "Nhập 4 số nguyên, cách nhau bởi dấu cách:  3 4 5 6 \n"
     ]
    },
    {
     "name": "stdout",
     "output_type": "stream",
     "text": [
      "Số lớn nhất là: 6\n"
     ]
    }
   ],
   "source": [
    "#10\n",
    "nums = list(map(int, input(\"Nhập 4 số nguyên, cách nhau bởi dấu cách: \").split()))\n",
    "if len(nums) != 4:\n",
    "    print(\"Vui lòng nhập đúng 4 số nguyên.\")\n",
    "else:\n",
    "    print(\"Số lớn nhất là:\", max(nums))"
   ]
  },
  {
   "cell_type": "code",
   "execution_count": 9,
   "id": "7f06f0a6-534f-4119-a775-c662a38580b5",
   "metadata": {},
   "outputs": [
    {
     "name": "stdin",
     "output_type": "stream",
     "text": [
      "số nguyên a: 3\n",
      "số nguyên b: 4\n",
      "số nguyên c: 5\n"
     ]
    },
    {
     "name": "stdout",
     "output_type": "stream",
     "text": [
      "Tam giác thường\n"
     ]
    }
   ],
   "source": [
    "#11\n",
    "a = int(input(\"số nguyên a:\"))\n",
    "b = int(input(\"số nguyên b:\"))\n",
    "c = int(input(\"số nguyên c:\"))\n",
    "if a<(b+c) and b<(a+c) and c<(a+c):\n",
    "    if a==b==c:\n",
    "        print(\"Tam giác đều\")\n",
    "    elif a==b or a==c or b==c:\n",
    "        print(\"Tam giác cân\")\n",
    "    else:\n",
    "        print(\"Tam giác thường\")\n",
    "else:\n",
    "    print(\"Không phải tam giác\")"
   ]
  },
  {
   "cell_type": "code",
   "execution_count": 16,
   "id": "c12f16ee-70d0-46b7-a413-0893f1ac926e",
   "metadata": {},
   "outputs": [
    {
     "name": "stdin",
     "output_type": "stream",
     "text": [
      "số nguyên dương: 2024\n"
     ]
    },
    {
     "name": "stdout",
     "output_type": "stream",
     "text": [
      "Yes\n"
     ]
    }
   ],
   "source": [
    "#12\n",
    "n = int(input(\"số nguyên dương:\"))\n",
    "if (n%400==0) or (n%4==0 and n%100!= 0):\n",
    "   print(\"Yes\")\n",
    "else:\n",
    "    print(\"No\")\n"
   ]
  },
  {
   "cell_type": "code",
   "execution_count": 17,
   "id": "95a5ecec-32e1-4f60-acef-a3927333fcf1",
   "metadata": {},
   "outputs": [
    {
     "name": "stdin",
     "output_type": "stream",
     "text": [
      "Nhập a:  5\n",
      "Nhập b:  8\n"
     ]
    },
    {
     "name": "stdout",
     "output_type": "stream",
     "text": [
      "Nghiệm x = -1.6\n"
     ]
    }
   ],
   "source": [
    "#14\n",
    "a = float(input(\"Nhập a: \"))\n",
    "b = float(input(\"Nhập b: \"))\n",
    "if a == 0:\n",
    "    if b == 0:\n",
    "        print(\"Vô số nghiệm\")\n",
    "    else:\n",
    "        print(\"Vô nghiệm\")\n",
    "else:\n",
    "    x = -b / a\n",
    "    print(\"Nghiệm x =\", round(x, 2))\n"
   ]
  },
  {
   "cell_type": "code",
   "execution_count": 21,
   "id": "d62cc93a-b761-4863-9f4d-6243e587e427",
   "metadata": {},
   "outputs": [
    {
     "name": "stdin",
     "output_type": "stream",
     "text": [
      "điểm trung bình: 6.07\n"
     ]
    },
    {
     "name": "stdout",
     "output_type": "stream",
     "text": [
      "Trung bình\n"
     ]
    }
   ],
   "source": [
    "#15\n",
    "x = float(input(\"điểm trung bình:\"))\n",
    "if x>10 or x<0:\n",
    "    print(\"?\")\n",
    "elif x>=8.0:\n",
    "    print(\"Giỏi\")\n",
    "elif x>=6.5:\n",
    "    print(\"Khá\")\n",
    "elif x>=5.0:\n",
    "    print(\"Trung bình\")\n",
    "else:\n",
    "    print(\"Yếu\")"
   ]
  },
  {
   "cell_type": "code",
   "execution_count": 37,
   "id": "1c2037d2-546a-4ade-8f06-0bd6f36a4ab7",
   "metadata": {},
   "outputs": [
    {
     "name": "stdin",
     "output_type": "stream",
     "text": [
      "Nhập vào một số thực:  5.77\n"
     ]
    },
    {
     "name": "stdout",
     "output_type": "stream",
     "text": [
      "6 5 6\n"
     ]
    }
   ],
   "source": [
    "#16\n",
    "x = float(input(\"Nhập vào một số thực: \"))\n",
    "nguyen = int(x)\n",
    "\n",
    "if x >= 0:\n",
    "    tron_xuong = nguyen\n",
    "else:\n",
    "    if x != nguyen:\n",
    "        tron_xuong = nguyen - 1\n",
    "    else:\n",
    "        tron_xuong = nguyen\n",
    "        \n",
    "if x > nguyen:\n",
    "    tron_len = nguyen + 1\n",
    "else:\n",
    "    tron_len = nguyen\n",
    "    \n",
    "phan_thap_phan = x - nguyen\n",
    "if phan_thap_phan >= 0.5:\n",
    "    tron_gan = nguyen + 1\n",
    "else:\n",
    "    tron_gan = nguyen\n",
    "\n",
    "print(tron_len, tron_xuong, tron_gan)\n"
   ]
  },
  {
   "cell_type": "code",
   "execution_count": 38,
   "id": "193b0129-bb08-4006-b581-9479ec7063a9",
   "metadata": {},
   "outputs": [
    {
     "name": "stdin",
     "output_type": "stream",
     "text": [
      "a= 6\n",
      "b= 3\n",
      "c= 1\n",
      "d= 9\n"
     ]
    },
    {
     "name": "stdout",
     "output_type": "stream",
     "text": [
      "Không phải cấp số nhân\n"
     ]
    }
   ],
   "source": [
    "#17\n",
    "a = int(input(\"a=\"))\n",
    "b = int(input(\"b=\"))\n",
    "c = int(input(\"c=\"))\n",
    "d = int(input(\"d=\"))\n",
    "if a == 0:\n",
    "    print(\"Không phải cấp số nhân\")\n",
    "else:\n",
    "    if b % a == 0:  \n",
    "        q = b // a\n",
    "        if c == b * q and d == c * q:\n",
    "            print(\"q=\", q)\n",
    "        else:\n",
    "            print(\"Không phải cấp số nhân\")\n",
    "    else:\n",
    "        print(\"Không phải cấp số nhân\")\n"
   ]
  }
 ],
 "metadata": {
  "kernelspec": {
   "display_name": "Python 3 (ipykernel)",
   "language": "python",
   "name": "python3"
  },
  "language_info": {
   "codemirror_mode": {
    "name": "ipython",
    "version": 3
   },
   "file_extension": ".py",
   "mimetype": "text/x-python",
   "name": "python",
   "nbconvert_exporter": "python",
   "pygments_lexer": "ipython3",
   "version": "3.13.5"
  }
 },
 "nbformat": 4,
 "nbformat_minor": 5
}
